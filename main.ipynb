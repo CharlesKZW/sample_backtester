{
 "cells": [
  {
   "cell_type": "markdown",
   "id": "e780cac7",
   "metadata": {},
   "source": [
    "# CSV Backtester — Step-by-Step Validation\n",
    "This notebook walks through the pipeline: data → buffer → strategies → orders → execution → reporting."
   ]
  },
  {
   "cell_type": "markdown",
   "id": "3b8c1bdc",
   "metadata": {},
   "source": [
    "## 0. Setup"
   ]
  },
  {
   "cell_type": "code",
   "execution_count": 40,
   "id": "d5ab80d8",
   "metadata": {},
   "outputs": [
    {
     "name": "stdout",
     "output_type": "stream",
     "text": [
      "Folders ready.\n"
     ]
    }
   ],
   "source": [
    "import os, datetime, matplotlib.pyplot as plt\n",
    "from collections import deque\n",
    "from typing import List, Tuple\n",
    "\n",
    "from data_loader import load_market_data, MarketDataPoint\n",
    "from models import Order, OrderError, ExecutionError\n",
    "from strategies import MomentumStrategy, MeanReversionStrategy\n",
    "from engine import ExecutionEngine\n",
    "import reporting\n",
    "\n",
    "os.makedirs(\"data\", exist_ok=True)\n",
    "os.makedirs(\"output\", exist_ok=True)\n",
    "print(\"Folders ready.\")"
   ]
  },
  {
   "cell_type": "markdown",
   "id": "0b713d50",
   "metadata": {},
   "source": [
    "## 1. Generate or Load CSV"
   ]
  },
  {
   "cell_type": "code",
   "execution_count": 41,
   "id": "e0bdb8b6",
   "metadata": {},
   "outputs": [
    {
     "name": "stdout",
     "output_type": "stream",
     "text": [
      "CSV at: data/market_data.csv\n"
     ]
    }
   ],
   "source": [
    "# Generate a synthetic CSV if not present\n",
    "csv_path = os.path.join(\"data\", \"market_data.csv\")\n",
    "if not os.path.exists(csv_path):\n",
    "    from data_generator import generate_market_csv\n",
    "    generate_market_csv(\"AAPL\", 150.0, csv_path, num_ticks=6000, volatility=0.01, interval=0.0)\n",
    "print(\"CSV at:\", csv_path)"
   ]
  },
  {
   "cell_type": "markdown",
   "id": "3945ff9f",
   "metadata": {},
   "source": [
    "## 2. Parse CSV → Immutable `MarketDataPoint` List"
   ]
  },
  {
   "cell_type": "code",
   "execution_count": 42,
   "id": "b16e4025",
   "metadata": {},
   "outputs": [
    {
     "data": {
      "text/plain": [
       "[MarketDataPoint(timestamp=datetime.datetime(2025, 9, 21, 22, 58, 50, 781440), symbol='AAPL', price=152.26),\n",
       " MarketDataPoint(timestamp=datetime.datetime(2025, 9, 21, 22, 58, 50, 781498), symbol='AAPL', price=153.38),\n",
       " MarketDataPoint(timestamp=datetime.datetime(2025, 9, 21, 22, 58, 50, 781509), symbol='AAPL', price=154.63)]"
      ]
     },
     "execution_count": 42,
     "metadata": {},
     "output_type": "execute_result"
    }
   ],
   "source": [
    "ticks: List[MarketDataPoint] = load_market_data(csv_path)\n",
    "ticks[:3]  # preview first 3"
   ]
  },
  {
   "cell_type": "markdown",
   "id": "bf1f1b4d",
   "metadata": {},
   "source": [
    "## 3. FIFO Buffer (length 150)"
   ]
  },
  {
   "cell_type": "code",
   "execution_count": 43,
   "id": "cbddb4df",
   "metadata": {},
   "outputs": [
    {
     "data": {
      "text/plain": [
       "(10,\n",
       " MarketDataPoint(timestamp=datetime.datetime(2025, 9, 21, 22, 58, 50, 781440), symbol='AAPL', price=152.26),\n",
       " MarketDataPoint(timestamp=datetime.datetime(2025, 9, 21, 22, 58, 50, 781587), symbol='AAPL', price=155.54))"
      ]
     },
     "execution_count": 43,
     "metadata": {},
     "output_type": "execute_result"
    }
   ],
   "source": [
    "buffer = deque(maxlen=150)\n",
    "for t in ticks[:10]:\n",
    "    buffer.append(t)\n",
    "len(buffer), buffer[0], buffer[-1]"
   ]
  },
  {
   "cell_type": "markdown",
   "id": "7b07fab8",
   "metadata": {},
   "source": [
    "## 4. Strategies Setup and First Signals"
   ]
  },
  {
   "cell_type": "code",
   "execution_count": 44,
   "id": "a6218a74",
   "metadata": {},
   "outputs": [
    {
     "data": {
      "text/plain": [
       "(80,\n",
       " [('BUY', 'AAPL', 1, 162.11),\n",
       "  ('BUY', 'AAPL', 1, 161.16),\n",
       "  ('BUY', 'AAPL', 1, 159.93),\n",
       "  ('BUY', 'AAPL', 1, 161.69),\n",
       "  ('BUY', 'AAPL', 1, 160.66),\n",
       "  ('BUY', 'AAPL', 1, 161.34),\n",
       "  ('BUY', 'AAPL', 1, 162.95),\n",
       "  ('BUY', 'AAPL', 1, 163.65),\n",
       "  ('BUY', 'AAPL', 1, 164.6),\n",
       "  ('BUY', 'AAPL', 1, 168.67),\n",
       "  ('BUY', 'AAPL', 1, 169.69),\n",
       "  ('BUY', 'AAPL', 1, 170.19),\n",
       "  ('BUY', 'AAPL', 1, 170.4),\n",
       "  ('BUY', 'AAPL', 1, 168.77),\n",
       "  ('BUY', 'AAPL', 1, 166.92)])"
      ]
     },
     "execution_count": 44,
     "metadata": {},
     "output_type": "execute_result"
    }
   ],
   "source": [
    "symbol = ticks[0].symbol\n",
    "mom = MomentumStrategy(symbol, lookback=20, qty=1, threshold=0.05)\n",
    "mr = MeanReversionStrategy(symbol, window=50, z_entry=1.0, qty=1)\n",
    "\n",
    "sample_signals = []\n",
    "for t in ticks[:80]:  # enough to warm up both strategies\n",
    "    sample_signals.extend(mom.generate_signals(t))\n",
    "    sample_signals.extend(mr.generate_signals(t))\n",
    "len(sample_signals), sample_signals[:15]"
   ]
  },
  {
   "cell_type": "markdown",
   "id": "526313a3",
   "metadata": {},
   "source": [
    "## 5. Create Orders from Signals and Validate"
   ]
  },
  {
   "cell_type": "code",
   "execution_count": 45,
   "id": "3123cca3",
   "metadata": {},
   "outputs": [
    {
     "data": {
      "text/plain": [
       "80"
      ]
     },
     "execution_count": 45,
     "metadata": {},
     "output_type": "execute_result"
    }
   ],
   "source": [
    "orders = [Order(symbol=s, quantity=q, price=p, side=a) for (a, s, q, p) in sample_signals]\n",
    "# Validate all (some may be invalid depending on config)\n",
    "valid_orders = []\n",
    "for o in orders:\n",
    "    try:\n",
    "        o.validate()\n",
    "        valid_orders.append(o)\n",
    "    except OrderError as e:\n",
    "        pass\n",
    "len(valid_orders)"
   ]
  },
  {
   "cell_type": "markdown",
   "id": "691bc398",
   "metadata": {},
   "source": [
    "## 6. Execution Engine — Step First 120 Ticks"
   ]
  },
  {
   "cell_type": "code",
   "execution_count": 46,
   "id": "70e7a828",
   "metadata": {},
   "outputs": [
    {
     "data": {
      "text/plain": [
       "(155, 26, 120)"
      ]
     },
     "execution_count": 46,
     "metadata": {},
     "output_type": "execute_result"
    }
   ],
   "source": [
    "engine = ExecutionEngine(starting_cash=100_000.0, success_rate=0.9)\n",
    "for t in ticks[:120]:\n",
    "    engine.on_tick(t)\n",
    "    for sig in mom.generate_signals(t) + mr.generate_signals(t):\n",
    "        o = Order(symbol=sig[1], quantity=sig[2], price=sig[3], side=sig[0])\n",
    "        try:\n",
    "            o.validate()\n",
    "            try:\n",
    "                engine.execute(o, now=t.timestamp)\n",
    "            except ExecutionError:\n",
    "                # Simulated failure; continue\n",
    "                pass\n",
    "        except OrderError:\n",
    "            # Invalid order; skip\n",
    "            pass\n",
    "\n",
    "len(engine.executed_history), len(engine.failed_history), len(engine.portfolio_values)"
   ]
  },
  {
   "cell_type": "markdown",
   "id": "cb4335e3",
   "metadata": {},
   "source": [
    "### Plot interim equity"
   ]
  },
  {
   "cell_type": "code",
   "execution_count": 47,
   "id": "7effa0f8",
   "metadata": {},
   "outputs": [
    {
     "data": {
      "image/png": "[encoded data removed]",
      "text/plain": [
       "<Figure size 640x480 with 1 Axes>"
      ]
     },
     "metadata": {},
     "output_type": "display_data"
    }
   ],
   "source": [
    "xs = [t for t, _ in engine.portfolio_values]\n",
    "ys = [v for _, v in engine.portfolio_values]\n",
    "plt.figure()\n",
    "plt.plot(xs, ys)\n",
    "plt.title(\"Interim Equity (first 120 ticks)\")\n",
    "plt.xlabel(\"Time\"); plt.ylabel(\"Portfolio Value\"); plt.show()"
   ]
  },
  {
   "cell_type": "markdown",
   "id": "af02581f",
   "metadata": {},
   "source": [
    "## 7. Full Backtest"
   ]
  },
  {
   "cell_type": "code",
   "execution_count": 48,
   "id": "f031cc71",
   "metadata": {},
   "outputs": [
    {
     "data": {
      "text/plain": [
       "(8390, 990, 6000)"
      ]
     },
     "execution_count": 48,
     "metadata": {},
     "output_type": "execute_result"
    }
   ],
   "source": [
    "# Continue for all ticks\n",
    "engine_full = ExecutionEngine(starting_cash=100_000.0, success_rate=0.9)\n",
    "for t in ticks:\n",
    "    engine_full.on_tick(t)\n",
    "    for sig in mom.generate_signals(t) + mr.generate_signals(t):\n",
    "        o = Order(symbol=sig[1], quantity=sig[2], price=sig[3], side=sig[0])\n",
    "        try:\n",
    "            o.validate()\n",
    "            try:\n",
    "                engine_full.execute(o, now=t.timestamp)\n",
    "            except ExecutionError:\n",
    "                pass\n",
    "        except OrderError:\n",
    "            pass\n",
    "\n",
    "len(engine_full.executed_history), len(engine_full.failed_history), len(engine_full.portfolio_values)"
   ]
  },
  {
   "cell_type": "markdown",
   "id": "96915934",
   "metadata": {},
   "source": [
    "### 8. Reporting"
   ]
  },
  {
   "cell_type": "code",
   "execution_count": 49,
   "id": "60a14185",
   "metadata": {},
   "outputs": [
    {
     "name": "stdout",
     "output_type": "stream",
     "text": [
      "Report written to: output/performance.md\n"
     ]
    },
    {
     "data": {
      "text/plain": [
       "('output/performance.md', 'output/equity.png')"
      ]
     },
     "execution_count": 49,
     "metadata": {},
     "output_type": "execute_result"
    }
   ],
   "source": [
    "out_md = reporting.generate_markdown_report(\"output\", engine_full)\n",
    "print(\"Report written to:\", out_md)\n",
    "# Display paths\n",
    "out_md, os.path.join(\"output\", \"equity.png\")"
   ]
  },
  {
   "cell_type": "markdown",
   "id": "d40656fc",
   "metadata": {},
   "source": [
    "### 9. Inspect Markdown"
   ]
  },
  {
   "cell_type": "code",
   "execution_count": 50,
   "id": "e6beb513",
   "metadata": {},
   "outputs": [
    {
     "name": "stdout",
     "output_type": "stream",
     "text": [
      "# Performance Report\n",
      "## Summary Metrics\n",
      "| Metric | Value |\n",
      "|---|---|\n",
      "| Starting Equity | 100000.00 |\n",
      "| Ending Equity | 100272.01 |\n",
      "| Total Return | 0.27% |\n",
      "| Sharpe (per-tick scaled) | 0.14 |\n",
      "| Max Drawdown | -7.24% |\n",
      "\n",
      "## Equity Curve\n",
      "![Equity](equity.png)\n",
      "\n",
      "## ASCII Sparkline\n",
      "```\n",
      "▃▄▄▄▃▅▅▅▅▅▅▆▅▅▅▆▅▅▅▄▄▄▄▄▄▄▄▄▂▂▁▂▄▅▆█▆▁▂▁▁▂▄▃▄▃▃▃▃▅▄▅▅▅▄▄▄▃▃▃\n",
      "```\n",
      "## Executions\n",
      "- Executed orders: 8390\n",
      "- Failed orders: 990\n",
      "\n",
      "### First 5 Executions\n",
      "```\n",
      "{'timestamp': '2025-09-21T22:58:50.781440', 'symbol': 'AAPL', 'price': 152.26, 'quantity': 1, 'side': 'BUY', 'status': 'FILLED', 'cash_after': 99847.74, 'position_after': 1}\n",
      "{'timestamp': '2025-09-21T22:58:50.781498', 'symbol': 'AAPL', 'price': 153.38, 'quantity': 1, 'side': 'SELL', 'status': 'FILLED', 'cash_after': 100001.12000000001, 'position_after': 0}\n",
      "{'timestamp': '2025-09-21T22:58:50.781498', 'symbol': 'AAPL', 'price': 153.38, 'quantity': 1, 'side': 'BUY', 'status': 'FILLED', 'cash_after': 99847.74, 'position_after': 1}\n",
      "{'timestamp': '2025-09-21T22:58:50.781509', 'symbol': 'AAPL', 'price': 154.63, 'quantity': 1, 'side': 'SELL', 'status': 'FILLED', 'cash_after': 100002.37000000001, 'position_after': 0}\n",
      "{'timestamp': '2025-09-21T22:58:50.781509', 'symbol': 'AAPL', 'price': 154.63, 'quantity': 1, 'side': 'BUY', 'status': 'FILLED', 'cash_after': 99847.74, 'position_after': 1}\n",
      "```\n"
     ]
    }
   ],
   "source": [
    "# Show first 40 lines of the markdown\n",
    "with open(out_md, \"r\") as f:\n",
    "    for i, line in enumerate(f):\n",
    "        if i > 40: break\n",
    "        print(line.rstrip())"
   ]
  },
  {
   "cell_type": "code",
   "execution_count": null,
   "id": "3f874bd6",
   "metadata": {},
   "outputs": [],
   "source": []
  },
  {
   "cell_type": "code",
   "execution_count": null,
   "id": "9b3b78b9",
   "metadata": {},
   "outputs": [],
   "source": []
  }
 ],
 "metadata": {
  "kernelspec": {
   "display_name": "Python 3",
   "language": "python",
   "name": "python3"
  },
  "language_info": {
   "codemirror_mode": {
    "name": "ipython",
    "version": 3
   },
   "file_extension": ".py",
   "mimetype": "text/x-python",
   "name": "python",
   "nbconvert_exporter": "python",
   "pygments_lexer": "ipython3",
   "version": "3.9.19"
  }
 },
 "nbformat": 4,
 "nbformat_minor": 5
}
